{
  "nbformat": 4,
  "nbformat_minor": 0,
  "metadata": {
    "colab": {
      "name": "Final Project.ipynb",
      "provenance": []
    },
    "kernelspec": {
      "name": "python3",
      "display_name": "Python 3"
    }
  },
  "cells": [
    {
      "cell_type": "code",
      "metadata": {
        "colab": {
          "base_uri": "https://localhost:8080/"
        },
        "id": "DtuSf3UYuUCQ",
        "outputId": "019eee90-b85a-4b5f-db53-a4b3ac00ced8"
      },
      "source": [
        "from datetime import date\r\n",
        "class Employee():\r\n",
        "    empCount = 0\r\n",
        "    def __init__(self, n, s, year, month, day): #constructor\r\n",
        "        self.name = n\r\n",
        "        self.language = s\r\n",
        "        self.hireDay = date(year,month,day)\r\n",
        "        Employee.empCount += 1\r\n",
        "        \r\n",
        "    def getEmpCount():\r\n",
        "        return Employee.empCount\r\n",
        "    \r\n",
        "    def getName(self):\r\n",
        "        return self.name\r\n",
        "    \r\n",
        "    def getLanguage(self):\r\n",
        "        return self.language\r\n",
        "    \r\n",
        "    def getHireDay(self):\r\n",
        "        return self.hireDay\r\n",
        "\r\n",
        "\r\n",
        "class Manager(Employee): \r\n",
        "    def __init__(self, n, s, year, month, day):\r\n",
        "        Employee.__init__(self, n, s, year, month, day) \r\n",
        "        self.bonus = 0\r\n",
        "        \r\n",
        "    def getLanguage(self): \r\n",
        "        return self.language\r\n",
        "    \r\n",
        "boss = Manager(\"Mehmet Yılmaz\", \"Turkish\", 1987, 12, 15)\r\n",
        "staff = []\r\n",
        "\r\n",
        "staff.append(boss)\r\n",
        "staff.append(Employee(\"John Turner\", \"English\", 1989, 10, 1))\r\n",
        "staff.append(Employee(\"Hans Kirsch\", \"German\", 1990, 3, 15))\r\n",
        "\r\n",
        "for e in staff:\r\n",
        "    print (e.getName(), e.getLanguage(), e.hireDay)\r\n",
        "\r\n",
        "print (Employee.empCount)\r\n",
        "\r\n"
      ],
      "execution_count": 14,
      "outputs": [
        {
          "output_type": "stream",
          "text": [
            "Mehmet Yılmaz Turkish 1987-12-15\n",
            "John Turner English 1989-10-01\n",
            "Hans Kirsch German 1990-03-15\n",
            "3\n"
          ],
          "name": "stdout"
        }
      ]
    }
  ]
}