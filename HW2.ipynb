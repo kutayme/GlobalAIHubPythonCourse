{
  "nbformat": 4,
  "nbformat_minor": 0,
  "metadata": {
    "colab": {
      "name": "HW2.ipynb",
      "provenance": [],
      "collapsed_sections": []
    },
    "kernelspec": {
      "name": "python3",
      "display_name": "Python 3"
    }
  },
  "cells": [
    {
      "cell_type": "code",
      "metadata": {
        "id": "DhbKwsygo-yM"
      },
      "source": [
        "username = 'kutay'\r\n",
        "\r\n",
        "password = 'globalai'\r\n",
        "\r\n",
        "userInput = input(\"What is your username?\\n\")\r\n",
        "\r\n",
        "if userInput == username:\r\n",
        "    a=input(\"Password?\\n\")   \r\n",
        "    if a == password:\r\n",
        "        print(\"Welcome!\")\r\n",
        "    else:\r\n",
        "        print(\"That is the wrong password.\")\r\n",
        "else:\r\n",
        "    print(\"That is the wrong username.\")"
      ],
      "execution_count": null,
      "outputs": []
    },
    {
      "cell_type": "code",
      "metadata": {
        "id": "Uv0_bb6lqu-S"
      },
      "source": [
        "complete = False\r\n",
        "user = {\"username1\" : \"12345\", \"username2\" : \"67890\" }\r\n",
        " \r\n",
        "while not complete:\r\n",
        "    username = input(\"Username: \")\r\n",
        "    password = input(\"Password: \")\r\n",
        "    if username == user and password == password:\r\n",
        "        continue\r\n",
        "    elif username not in user:\r\n",
        "        print(\"This is not a valid username, input username again!\")\r\n",
        "        continue\r\n",
        "    elif password != user[username]:\r\n",
        "        print(f\"Password is not valid for {username}. \")\r\n",
        "        continue\r\n",
        "    elif password == user[username]:\r\n",
        "        print(f\"Welcome {username} \")\r\n",
        "        print(f\"Thank you for logging on. \")\r\n",
        "        complete = True\r\n",
        " \r\n",
        "print (\"Username and Password Validated in Python\")"
      ],
      "execution_count": null,
      "outputs": []
    }
  ]
}