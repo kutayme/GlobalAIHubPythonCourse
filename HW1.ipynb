{
  "nbformat": 4,
  "nbformat_minor": 0,
  "metadata": {
    "colab": {
      "name": "HW1.ipynb",
      "provenance": [],
      "collapsed_sections": []
    },
    "kernelspec": {
      "name": "python3",
      "display_name": "Python 3"
    }
  },
  "cells": [
    {
      "cell_type": "code",
      "metadata": {
        "id": "AapLUY-z1at1"
      },
      "source": [
        "A = [0,1,2,3,4,5]\r\n",
        "l = len(A)/2\r\n",
        "B = A[:int(l)]\r\n",
        "C = A[int(l):]\r\n",
        "\r\n",
        "print(B)\r\n",
        "print(C)"
      ],
      "execution_count": null,
      "outputs": []
    },
    {
      "cell_type": "code",
      "metadata": {
        "id": "r3S7giFG2AJF"
      },
      "source": [
        "m=int(0)\r\n",
        "n=int(input('please enter one digit number: '))\r\n",
        "even_in_range=[i for i in range(m,n+1) if i%2==0 ]\r\n",
        "if n <=9 :\r\n",
        "  print(even_in_range)\r\n",
        "else:\r\n",
        "  print(\"I SAID ONE DIGIT!!!\")"
      ],
      "execution_count": null,
      "outputs": []
    }
  ]
}