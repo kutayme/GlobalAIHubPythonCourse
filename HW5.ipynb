{
  "nbformat": 4,
  "nbformat_minor": 0,
  "metadata": {
    "colab": {
      "name": "HW5.ipynb",
      "provenance": []
    },
    "kernelspec": {
      "name": "python3",
      "display_name": "Python 3"
    }
  },
  "cells": [
    {
      "cell_type": "code",
      "metadata": {
        "id": "_jFrDTIMpxoe"
      },
      "source": [
        "class Animal:\r\n",
        "    def __init__(self, kind, place):\r\n",
        "        self.kind = kind\r\n",
        "        self.place = place\r\n",
        "\r\n",
        "    def speak(self, adverb):\r\n",
        "        print(\"%s just did a %s %s\" % (self.name, adverb, self.speechtype))\r\n",
        "\r\n",
        "    def getallinfo(self):\r\n",
        "        print(\"%s is a %s %s %s, sitting on the %s\" % (self.name, self.gender, self.breed, self.kind, self.place))\r\n",
        "\r\n",
        "class Dog(Animal):\r\n",
        "    def __init__(self, name, gender, breed):\r\n",
        "        self.name = name\r\n",
        "        self.gender = gender\r\n",
        "        self.breed = breed\r\n",
        "        self.speechtype = \"woof\";\r\n",
        "        Animal.__init__(self, 'Dog', 'Ground')\r\n",
        "\r\n",
        "class Cat(Animal):\r\n",
        "    def __init__(self, name, gender, breed):\r\n",
        "        self.name = name\r\n",
        "        self.gender = gender\r\n",
        "        self.breed = breed\r\n",
        "        self.speechtype = \"meow\";\r\n",
        "        Animal.__init__(self, 'Cat', 'Ground')\r\n",
        "\r\n",
        "Mickey = Dog('Mickey', 'Male', 'Bulldog')\r\n",
        "Flora = Dog('Flora','Female','Pug')\r\n",
        "Tina = Cat('Tina','Female','Persian')\r\n",
        "Tina.getallinfo()\r\n",
        "Tina.speak('soft')\r\n",
        "Flora.getallinfo()\r\n",
        "Mickey.speak('loud')"
      ],
      "execution_count": null,
      "outputs": []
    }
  ]
}