{
  "nbformat": 4,
  "nbformat_minor": 0,
  "metadata": {
    "colab": {
      "name": "HW3.ipynb",
      "provenance": []
    },
    "kernelspec": {
      "name": "python3",
      "display_name": "Python 3"
    }
  },
  "cells": [
    {
      "cell_type": "code",
      "metadata": {
        "id": "24U36IQoKa3u"
      },
      "source": [
        "lower = 0\r\n",
        "upper = 100\r\n",
        "\r\n",
        "print(\"Prime numbers between\", lower, \"and\", upper, \"are:\")\r\n",
        "\r\n",
        "for num in range(lower, upper + 1):\r\n",
        "   if num > 1:\r\n",
        "       for i in range(2, num):\r\n",
        "           if (num % i) == 0:\r\n",
        "               break\r\n",
        "       else:\r\n",
        "           print(num)"
      ],
      "execution_count": null,
      "outputs": []
    }
  ]
}